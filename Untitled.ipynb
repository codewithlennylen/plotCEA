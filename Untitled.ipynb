{
 "cells": [
  {
   "cell_type": "code",
   "execution_count": null,
   "id": "f1c58e88-891e-4039-84d8-11461553db5c",
   "metadata": {},
   "outputs": [],
   "source": [
    "#!/usr/bin/env python\n",
    "#-*-coding:utf-8-*-\n",
    "\n",
    "import matplotlib.pyplot as plt\n",
    "import pandas as pd\n",
    "import sys\n",
    "import pdb\n",
    "\n",
    "gravity_acceleration = 9.80665 \n",
    "\n",
    "if len(sys.argv) != 2:\n",
    "    print(\"Usage: python plotCEA.py <Your CEA output text file>\")\n",
    "    sys.exit()\n",
    "\n",
    "filename = sys.argv[1]\n",
    "\n",
    "file = open(filename).read()\n",
    "outputs = file.split('THEORETICAL')\n",
    "outputs = outputs[1:]\n",
    "df = pd.DataFrame()\n",
    "for output in outputs:\n",
    "    dic = {}\n",
    "    # pdb.set_trace()\n",
    "    Pin = output.split('Pin =')[1].split('PSIA')[0].strip()\n",
    "    O_F = output.split('O/F=')[1].split('%FUEL')[0].strip()\n",
    "    # Isp = output.split('Isp, M/SEC')[1].split('MASS')[0].strip()\n",
    "    Isp = output.split('Isp, M/SEC')[1].split('MASS')[0].strip().split(' ')[-1]\n",
    "    dic['Pin'] = float(Pin)\n",
    "    dic['O_F'] = float(O_F)\n",
    "    dic['Isp'] = float(Isp)\n",
    "    df1 = pd.DataFrame(dic, index=[0])\n",
    "    df = pd.concat([df, df1], ignore_index=True)\n",
    "\n",
    "\n",
    "Pins = list(df['Pin'].unique())\n",
    "\n",
    "for Pin in Pins:\n",
    "    # color = colors[cnt]\n",
    "    val = df[df['Pin']==Pin]\n",
    "    O_Fs = sorted(list(set(val['O_F'])))\n",
    "    df_tmp = pd.DataFrame()\n",
    "    for O_F in O_Fs:\n",
    "        tmp = val[val['O_F']==O_F]\n",
    "        tmp = tmp[tmp['Isp']==max(tmp['Isp'])]\n",
    "        df_tmp = pd.concat([df_tmp, tmp], ignore_index=True)\n",
    "    \n",
    "    plt.plot(df_tmp['O_F'],df_tmp['Isp']/gravity_acceleration)\n",
    "\n",
    "plt.legend([str(Pin)+'(psia)' for Pin in Pins])\n",
    "plt.xlabel('O/F ratio')\n",
    "plt.ylabel('Isp [s]')\n",
    "plt.title('Isp vs. O/F ratio')\n",
    "plt.show()\n",
    "\n"
   ]
  }
 ],
 "metadata": {
  "kernelspec": {
   "display_name": "Python 3 (ipykernel)",
   "language": "python",
   "name": "python3"
  },
  "language_info": {
   "codemirror_mode": {
    "name": "ipython",
    "version": 3
   },
   "file_extension": ".py",
   "mimetype": "text/x-python",
   "name": "python",
   "nbconvert_exporter": "python",
   "pygments_lexer": "ipython3",
   "version": "3.9.2"
  }
 },
 "nbformat": 4,
 "nbformat_minor": 5
}
